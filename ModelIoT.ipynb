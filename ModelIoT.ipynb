{
  "nbformat": 4,
  "nbformat_minor": 0,
  "metadata": {
    "colab": {
      "provenance": [],
      "collapsed_sections": []
    },
    "kernelspec": {
      "name": "python3",
      "display_name": "Python 3"
    },
    "language_info": {
      "name": "python"
    }
  },
  "cells": [
    {
      "cell_type": "markdown",
      "source": [
        "# SCRIPT FOR ABNORMAL VITAL SIGNS PREDICTION"
      ],
      "metadata": {
        "id": "_5u_ls13XmA2"
      }
    },
    {
      "cell_type": "code",
      "source": [
        "import numpy as np\n",
        "import pandas as pd\n",
        "import matplotlib.pyplot as plt\n",
        "%matplotlib inline\n",
        "np.random.seed(42)"
      ],
      "metadata": {
        "id": "3Z_RNDqJX9OF"
      },
      "execution_count": 1,
      "outputs": []
    },
    {
      "cell_type": "code",
      "source": [
        "vital_data = pd.read_csv(\"Human_vital_signs_R.csv\", sep=',')\n",
        "vital_data.head()"
      ],
      "metadata": {
        "colab": {
          "base_uri": "https://localhost:8080/",
          "height": 206
        },
        "id": "nevLPBMdYADi",
        "outputId": "f333094c-49ab-4f4d-935b-2dd943c8bb2e"
      },
      "execution_count": 2,
      "outputs": [
        {
          "output_type": "execute_result",
          "data": {
            "text/plain": [
              "   Unnamed: 0  Time (s)   HR (BPM)   RESP (BPM)   SpO2 (%)  TEMP (*C)  \\\n",
              "0           0         0       94.0         21.0       97.0       36.2   \n",
              "1           1         1       94.0         25.0       97.0       36.2   \n",
              "2           2         2      101.0         25.0       93.0       38.0   \n",
              "3           3         3       55.0         11.0      100.0       35.0   \n",
              "4           4         4       93.0         26.0       95.0       37.0   \n",
              "\n",
              "     OUTPUT  \n",
              "0    Normal  \n",
              "1    Normal  \n",
              "2  Abnormal  \n",
              "3  Abnormal  \n",
              "4    Normal  "
            ],
            "text/html": [
              "\n",
              "  <div id=\"df-d4d6e682-ef20-4ed0-9aad-f0b3a0972bd4\">\n",
              "    <div class=\"colab-df-container\">\n",
              "      <div>\n",
              "<style scoped>\n",
              "    .dataframe tbody tr th:only-of-type {\n",
              "        vertical-align: middle;\n",
              "    }\n",
              "\n",
              "    .dataframe tbody tr th {\n",
              "        vertical-align: top;\n",
              "    }\n",
              "\n",
              "    .dataframe thead th {\n",
              "        text-align: right;\n",
              "    }\n",
              "</style>\n",
              "<table border=\"1\" class=\"dataframe\">\n",
              "  <thead>\n",
              "    <tr style=\"text-align: right;\">\n",
              "      <th></th>\n",
              "      <th>Unnamed: 0</th>\n",
              "      <th>Time (s)</th>\n",
              "      <th>HR (BPM)</th>\n",
              "      <th>RESP (BPM)</th>\n",
              "      <th>SpO2 (%)</th>\n",
              "      <th>TEMP (*C)</th>\n",
              "      <th>OUTPUT</th>\n",
              "    </tr>\n",
              "  </thead>\n",
              "  <tbody>\n",
              "    <tr>\n",
              "      <th>0</th>\n",
              "      <td>0</td>\n",
              "      <td>0</td>\n",
              "      <td>94.0</td>\n",
              "      <td>21.0</td>\n",
              "      <td>97.0</td>\n",
              "      <td>36.2</td>\n",
              "      <td>Normal</td>\n",
              "    </tr>\n",
              "    <tr>\n",
              "      <th>1</th>\n",
              "      <td>1</td>\n",
              "      <td>1</td>\n",
              "      <td>94.0</td>\n",
              "      <td>25.0</td>\n",
              "      <td>97.0</td>\n",
              "      <td>36.2</td>\n",
              "      <td>Normal</td>\n",
              "    </tr>\n",
              "    <tr>\n",
              "      <th>2</th>\n",
              "      <td>2</td>\n",
              "      <td>2</td>\n",
              "      <td>101.0</td>\n",
              "      <td>25.0</td>\n",
              "      <td>93.0</td>\n",
              "      <td>38.0</td>\n",
              "      <td>Abnormal</td>\n",
              "    </tr>\n",
              "    <tr>\n",
              "      <th>3</th>\n",
              "      <td>3</td>\n",
              "      <td>3</td>\n",
              "      <td>55.0</td>\n",
              "      <td>11.0</td>\n",
              "      <td>100.0</td>\n",
              "      <td>35.0</td>\n",
              "      <td>Abnormal</td>\n",
              "    </tr>\n",
              "    <tr>\n",
              "      <th>4</th>\n",
              "      <td>4</td>\n",
              "      <td>4</td>\n",
              "      <td>93.0</td>\n",
              "      <td>26.0</td>\n",
              "      <td>95.0</td>\n",
              "      <td>37.0</td>\n",
              "      <td>Normal</td>\n",
              "    </tr>\n",
              "  </tbody>\n",
              "</table>\n",
              "</div>\n",
              "      <button class=\"colab-df-convert\" onclick=\"convertToInteractive('df-d4d6e682-ef20-4ed0-9aad-f0b3a0972bd4')\"\n",
              "              title=\"Convert this dataframe to an interactive table.\"\n",
              "              style=\"display:none;\">\n",
              "        \n",
              "  <svg xmlns=\"http://www.w3.org/2000/svg\" height=\"24px\"viewBox=\"0 0 24 24\"\n",
              "       width=\"24px\">\n",
              "    <path d=\"M0 0h24v24H0V0z\" fill=\"none\"/>\n",
              "    <path d=\"M18.56 5.44l.94 2.06.94-2.06 2.06-.94-2.06-.94-.94-2.06-.94 2.06-2.06.94zm-11 1L8.5 8.5l.94-2.06 2.06-.94-2.06-.94L8.5 2.5l-.94 2.06-2.06.94zm10 10l.94 2.06.94-2.06 2.06-.94-2.06-.94-.94-2.06-.94 2.06-2.06.94z\"/><path d=\"M17.41 7.96l-1.37-1.37c-.4-.4-.92-.59-1.43-.59-.52 0-1.04.2-1.43.59L10.3 9.45l-7.72 7.72c-.78.78-.78 2.05 0 2.83L4 21.41c.39.39.9.59 1.41.59.51 0 1.02-.2 1.41-.59l7.78-7.78 2.81-2.81c.8-.78.8-2.07 0-2.86zM5.41 20L4 18.59l7.72-7.72 1.47 1.35L5.41 20z\"/>\n",
              "  </svg>\n",
              "      </button>\n",
              "      \n",
              "  <style>\n",
              "    .colab-df-container {\n",
              "      display:flex;\n",
              "      flex-wrap:wrap;\n",
              "      gap: 12px;\n",
              "    }\n",
              "\n",
              "    .colab-df-convert {\n",
              "      background-color: #E8F0FE;\n",
              "      border: none;\n",
              "      border-radius: 50%;\n",
              "      cursor: pointer;\n",
              "      display: none;\n",
              "      fill: #1967D2;\n",
              "      height: 32px;\n",
              "      padding: 0 0 0 0;\n",
              "      width: 32px;\n",
              "    }\n",
              "\n",
              "    .colab-df-convert:hover {\n",
              "      background-color: #E2EBFA;\n",
              "      box-shadow: 0px 1px 2px rgba(60, 64, 67, 0.3), 0px 1px 3px 1px rgba(60, 64, 67, 0.15);\n",
              "      fill: #174EA6;\n",
              "    }\n",
              "\n",
              "    [theme=dark] .colab-df-convert {\n",
              "      background-color: #3B4455;\n",
              "      fill: #D2E3FC;\n",
              "    }\n",
              "\n",
              "    [theme=dark] .colab-df-convert:hover {\n",
              "      background-color: #434B5C;\n",
              "      box-shadow: 0px 1px 3px 1px rgba(0, 0, 0, 0.15);\n",
              "      filter: drop-shadow(0px 1px 2px rgba(0, 0, 0, 0.3));\n",
              "      fill: #FFFFFF;\n",
              "    }\n",
              "  </style>\n",
              "\n",
              "      <script>\n",
              "        const buttonEl =\n",
              "          document.querySelector('#df-d4d6e682-ef20-4ed0-9aad-f0b3a0972bd4 button.colab-df-convert');\n",
              "        buttonEl.style.display =\n",
              "          google.colab.kernel.accessAllowed ? 'block' : 'none';\n",
              "\n",
              "        async function convertToInteractive(key) {\n",
              "          const element = document.querySelector('#df-d4d6e682-ef20-4ed0-9aad-f0b3a0972bd4');\n",
              "          const dataTable =\n",
              "            await google.colab.kernel.invokeFunction('convertToInteractive',\n",
              "                                                     [key], {});\n",
              "          if (!dataTable) return;\n",
              "\n",
              "          const docLinkHtml = 'Like what you see? Visit the ' +\n",
              "            '<a target=\"_blank\" href=https://colab.research.google.com/notebooks/data_table.ipynb>data table notebook</a>'\n",
              "            + ' to learn more about interactive tables.';\n",
              "          element.innerHTML = '';\n",
              "          dataTable['output_type'] = 'display_data';\n",
              "          await google.colab.output.renderOutput(dataTable, element);\n",
              "          const docLink = document.createElement('div');\n",
              "          docLink.innerHTML = docLinkHtml;\n",
              "          element.appendChild(docLink);\n",
              "        }\n",
              "      </script>\n",
              "    </div>\n",
              "  </div>\n",
              "  "
            ]
          },
          "metadata": {},
          "execution_count": 2
        }
      ]
    },
    {
      "cell_type": "code",
      "source": [
        "vital_data.info()"
      ],
      "metadata": {
        "colab": {
          "base_uri": "https://localhost:8080/"
        },
        "id": "NtPUELlqYUU-",
        "outputId": "78bdd34b-0192-4b7e-bc1d-28733bb4d527"
      },
      "execution_count": 3,
      "outputs": [
        {
          "output_type": "stream",
          "name": "stdout",
          "text": [
            "<class 'pandas.core.frame.DataFrame'>\n",
            "RangeIndex: 25493 entries, 0 to 25492\n",
            "Data columns (total 7 columns):\n",
            " #   Column       Non-Null Count  Dtype  \n",
            "---  ------       --------------  -----  \n",
            " 0   Unnamed: 0   25493 non-null  int64  \n",
            " 1   Time (s)     25493 non-null  int64  \n",
            " 2    HR (BPM)    25488 non-null  float64\n",
            " 3    RESP (BPM)  25346 non-null  float64\n",
            " 4    SpO2 (%)    25366 non-null  float64\n",
            " 5   TEMP (*C)    25493 non-null  float64\n",
            " 6   OUTPUT       25493 non-null  object \n",
            "dtypes: float64(4), int64(2), object(1)\n",
            "memory usage: 1.4+ MB\n"
          ]
        }
      ]
    },
    {
      "cell_type": "code",
      "source": [
        "vital_data.describe()"
      ],
      "metadata": {
        "colab": {
          "base_uri": "https://localhost:8080/",
          "height": 300
        },
        "id": "vM0tvdR0YgWh",
        "outputId": "f214bf60-6c9a-4139-cf62-761a800f05a3"
      },
      "execution_count": 4,
      "outputs": [
        {
          "output_type": "execute_result",
          "data": {
            "text/plain": [
              "         Unnamed: 0      Time (s)      HR (BPM)    RESP (BPM)      SpO2 (%)  \\\n",
              "count  25493.000000  25493.000000  25488.000000  25346.000000  25366.000000   \n",
              "mean     240.000000    239.981132     89.127943     17.640496     96.716471   \n",
              "std      138.855163    138.855230     13.220448      3.589381      3.323381   \n",
              "min        0.000000     -1.000000     44.000000      0.000000     83.000000   \n",
              "25%      120.000000    120.000000     81.000000     16.000000     95.000000   \n",
              "50%      240.000000    240.000000     89.000000     18.000000     97.000000   \n",
              "75%      360.000000    360.000000     95.000000     20.000000     99.000000   \n",
              "max      480.000000    480.000000    139.000000     34.000000    111.000000   \n",
              "\n",
              "          TEMP (*C)  \n",
              "count  25493.000000  \n",
              "mean      37.590123  \n",
              "std        5.211265  \n",
              "min       21.000000  \n",
              "25%       34.000000  \n",
              "50%       38.000000  \n",
              "75%       41.000000  \n",
              "max       49.000000  "
            ],
            "text/html": [
              "\n",
              "  <div id=\"df-6f98d97c-9a1b-4aa0-a457-6b07d11d6270\">\n",
              "    <div class=\"colab-df-container\">\n",
              "      <div>\n",
              "<style scoped>\n",
              "    .dataframe tbody tr th:only-of-type {\n",
              "        vertical-align: middle;\n",
              "    }\n",
              "\n",
              "    .dataframe tbody tr th {\n",
              "        vertical-align: top;\n",
              "    }\n",
              "\n",
              "    .dataframe thead th {\n",
              "        text-align: right;\n",
              "    }\n",
              "</style>\n",
              "<table border=\"1\" class=\"dataframe\">\n",
              "  <thead>\n",
              "    <tr style=\"text-align: right;\">\n",
              "      <th></th>\n",
              "      <th>Unnamed: 0</th>\n",
              "      <th>Time (s)</th>\n",
              "      <th>HR (BPM)</th>\n",
              "      <th>RESP (BPM)</th>\n",
              "      <th>SpO2 (%)</th>\n",
              "      <th>TEMP (*C)</th>\n",
              "    </tr>\n",
              "  </thead>\n",
              "  <tbody>\n",
              "    <tr>\n",
              "      <th>count</th>\n",
              "      <td>25493.000000</td>\n",
              "      <td>25493.000000</td>\n",
              "      <td>25488.000000</td>\n",
              "      <td>25346.000000</td>\n",
              "      <td>25366.000000</td>\n",
              "      <td>25493.000000</td>\n",
              "    </tr>\n",
              "    <tr>\n",
              "      <th>mean</th>\n",
              "      <td>240.000000</td>\n",
              "      <td>239.981132</td>\n",
              "      <td>89.127943</td>\n",
              "      <td>17.640496</td>\n",
              "      <td>96.716471</td>\n",
              "      <td>37.590123</td>\n",
              "    </tr>\n",
              "    <tr>\n",
              "      <th>std</th>\n",
              "      <td>138.855163</td>\n",
              "      <td>138.855230</td>\n",
              "      <td>13.220448</td>\n",
              "      <td>3.589381</td>\n",
              "      <td>3.323381</td>\n",
              "      <td>5.211265</td>\n",
              "    </tr>\n",
              "    <tr>\n",
              "      <th>min</th>\n",
              "      <td>0.000000</td>\n",
              "      <td>-1.000000</td>\n",
              "      <td>44.000000</td>\n",
              "      <td>0.000000</td>\n",
              "      <td>83.000000</td>\n",
              "      <td>21.000000</td>\n",
              "    </tr>\n",
              "    <tr>\n",
              "      <th>25%</th>\n",
              "      <td>120.000000</td>\n",
              "      <td>120.000000</td>\n",
              "      <td>81.000000</td>\n",
              "      <td>16.000000</td>\n",
              "      <td>95.000000</td>\n",
              "      <td>34.000000</td>\n",
              "    </tr>\n",
              "    <tr>\n",
              "      <th>50%</th>\n",
              "      <td>240.000000</td>\n",
              "      <td>240.000000</td>\n",
              "      <td>89.000000</td>\n",
              "      <td>18.000000</td>\n",
              "      <td>97.000000</td>\n",
              "      <td>38.000000</td>\n",
              "    </tr>\n",
              "    <tr>\n",
              "      <th>75%</th>\n",
              "      <td>360.000000</td>\n",
              "      <td>360.000000</td>\n",
              "      <td>95.000000</td>\n",
              "      <td>20.000000</td>\n",
              "      <td>99.000000</td>\n",
              "      <td>41.000000</td>\n",
              "    </tr>\n",
              "    <tr>\n",
              "      <th>max</th>\n",
              "      <td>480.000000</td>\n",
              "      <td>480.000000</td>\n",
              "      <td>139.000000</td>\n",
              "      <td>34.000000</td>\n",
              "      <td>111.000000</td>\n",
              "      <td>49.000000</td>\n",
              "    </tr>\n",
              "  </tbody>\n",
              "</table>\n",
              "</div>\n",
              "      <button class=\"colab-df-convert\" onclick=\"convertToInteractive('df-6f98d97c-9a1b-4aa0-a457-6b07d11d6270')\"\n",
              "              title=\"Convert this dataframe to an interactive table.\"\n",
              "              style=\"display:none;\">\n",
              "        \n",
              "  <svg xmlns=\"http://www.w3.org/2000/svg\" height=\"24px\"viewBox=\"0 0 24 24\"\n",
              "       width=\"24px\">\n",
              "    <path d=\"M0 0h24v24H0V0z\" fill=\"none\"/>\n",
              "    <path d=\"M18.56 5.44l.94 2.06.94-2.06 2.06-.94-2.06-.94-.94-2.06-.94 2.06-2.06.94zm-11 1L8.5 8.5l.94-2.06 2.06-.94-2.06-.94L8.5 2.5l-.94 2.06-2.06.94zm10 10l.94 2.06.94-2.06 2.06-.94-2.06-.94-.94-2.06-.94 2.06-2.06.94z\"/><path d=\"M17.41 7.96l-1.37-1.37c-.4-.4-.92-.59-1.43-.59-.52 0-1.04.2-1.43.59L10.3 9.45l-7.72 7.72c-.78.78-.78 2.05 0 2.83L4 21.41c.39.39.9.59 1.41.59.51 0 1.02-.2 1.41-.59l7.78-7.78 2.81-2.81c.8-.78.8-2.07 0-2.86zM5.41 20L4 18.59l7.72-7.72 1.47 1.35L5.41 20z\"/>\n",
              "  </svg>\n",
              "      </button>\n",
              "      \n",
              "  <style>\n",
              "    .colab-df-container {\n",
              "      display:flex;\n",
              "      flex-wrap:wrap;\n",
              "      gap: 12px;\n",
              "    }\n",
              "\n",
              "    .colab-df-convert {\n",
              "      background-color: #E8F0FE;\n",
              "      border: none;\n",
              "      border-radius: 50%;\n",
              "      cursor: pointer;\n",
              "      display: none;\n",
              "      fill: #1967D2;\n",
              "      height: 32px;\n",
              "      padding: 0 0 0 0;\n",
              "      width: 32px;\n",
              "    }\n",
              "\n",
              "    .colab-df-convert:hover {\n",
              "      background-color: #E2EBFA;\n",
              "      box-shadow: 0px 1px 2px rgba(60, 64, 67, 0.3), 0px 1px 3px 1px rgba(60, 64, 67, 0.15);\n",
              "      fill: #174EA6;\n",
              "    }\n",
              "\n",
              "    [theme=dark] .colab-df-convert {\n",
              "      background-color: #3B4455;\n",
              "      fill: #D2E3FC;\n",
              "    }\n",
              "\n",
              "    [theme=dark] .colab-df-convert:hover {\n",
              "      background-color: #434B5C;\n",
              "      box-shadow: 0px 1px 3px 1px rgba(0, 0, 0, 0.15);\n",
              "      filter: drop-shadow(0px 1px 2px rgba(0, 0, 0, 0.3));\n",
              "      fill: #FFFFFF;\n",
              "    }\n",
              "  </style>\n",
              "\n",
              "      <script>\n",
              "        const buttonEl =\n",
              "          document.querySelector('#df-6f98d97c-9a1b-4aa0-a457-6b07d11d6270 button.colab-df-convert');\n",
              "        buttonEl.style.display =\n",
              "          google.colab.kernel.accessAllowed ? 'block' : 'none';\n",
              "\n",
              "        async function convertToInteractive(key) {\n",
              "          const element = document.querySelector('#df-6f98d97c-9a1b-4aa0-a457-6b07d11d6270');\n",
              "          const dataTable =\n",
              "            await google.colab.kernel.invokeFunction('convertToInteractive',\n",
              "                                                     [key], {});\n",
              "          if (!dataTable) return;\n",
              "\n",
              "          const docLinkHtml = 'Like what you see? Visit the ' +\n",
              "            '<a target=\"_blank\" href=https://colab.research.google.com/notebooks/data_table.ipynb>data table notebook</a>'\n",
              "            + ' to learn more about interactive tables.';\n",
              "          element.innerHTML = '';\n",
              "          dataTable['output_type'] = 'display_data';\n",
              "          await google.colab.output.renderOutput(dataTable, element);\n",
              "          const docLink = document.createElement('div');\n",
              "          docLink.innerHTML = docLinkHtml;\n",
              "          element.appendChild(docLink);\n",
              "        }\n",
              "      </script>\n",
              "    </div>\n",
              "  </div>\n",
              "  "
            ]
          },
          "metadata": {},
          "execution_count": 4
        }
      ]
    },
    {
      "cell_type": "code",
      "source": [
        "# First lets check how many 0 values are in these columns \n",
        "featureList = [' HR (BPM)', ' RESP (BPM)', ' SpO2 (%)', 'TEMP (*C)']\n",
        "vital_data[featureList].isin([0]).sum()"
      ],
      "metadata": {
        "colab": {
          "base_uri": "https://localhost:8080/"
        },
        "id": "ec9gVDEDZw7F",
        "outputId": "4d0a3a53-fa6c-4338-8f3f-37a1fa369248"
      },
      "execution_count": 5,
      "outputs": [
        {
          "output_type": "execute_result",
          "data": {
            "text/plain": [
              " HR (BPM)        0\n",
              " RESP (BPM)    219\n",
              " SpO2 (%)        0\n",
              "TEMP (*C)        0\n",
              "dtype: int64"
            ]
          },
          "metadata": {},
          "execution_count": 5
        }
      ]
    },
    {
      "cell_type": "markdown",
      "source": [
        "Let's replace zeros with the mean."
      ],
      "metadata": {
        "id": "eMiJZ15G0jId"
      }
    },
    {
      "cell_type": "code",
      "source": [
        "def clean_dataset(df):\n",
        "    assert isinstance(df, pd.DataFrame), \"df needs to be a pd.DataFrame\"\n",
        "    df.dropna(inplace=True)\n",
        "    indices_to_keep = ~df.isin([np.nan, np.inf, -np.inf]).any(1)\n",
        "    return df[indices_to_keep].astype(np.float64)"
      ],
      "metadata": {
        "id": "JuYLJVVjg0fP"
      },
      "execution_count": 13,
      "outputs": []
    },
    {
      "cell_type": "code",
      "source": [
        "vital_data[\"Unnamed: 0\"] = vital_data[\"Unnamed: 0\"].astype(np.float32)\n",
        "vital_data[\"Time (s)\"] = vital_data[\"Time (s)\"].astype(np.float32)\n",
        "\n",
        "# For Glucose\n",
        "vital_data[\" HR (BPM)\"] = vital_data[\" HR (BPM)\"].replace({ 0 : vital_data[\" HR (BPM)\"].mean()})\n",
        "vital_data[\" HR (BPM)\"] = vital_data[\" HR (BPM)\"].astype(np.float32)\n",
        "\n",
        "# For BloodPressure\n",
        "vital_data[\" RESP (BPM)\"] = vital_data[\" RESP (BPM)\"].replace({ 0 : vital_data[\" RESP (BPM)\"].mean()})\n",
        "vital_data[\" RESP (BPM)\"] = vital_data[\" RESP (BPM)\"].astype(np.float32)\n",
        "\n",
        "# For SkinThickness\n",
        "vital_data[\" SpO2 (%)\"] = vital_data[\" SpO2 (%)\"].replace({ 0 : vital_data[\" SpO2 (%)\"].mean()})\n",
        "vital_data[\" SpO2 (%)\"] = vital_data[\" SpO2 (%)\"].astype(np.float32)\n",
        "\n",
        "# For BMI\n",
        "vital_data[\"TEMP (*C)\"] = vital_data[\"TEMP (*C)\"].replace({ 0 : vital_data[\"TEMP (*C)\"].mean()})\n",
        "vital_data[\"TEMP (*C)\"] = vital_data[\"TEMP (*C)\"].astype(np.float32)\n",
        "\n",
        "# Substitute normal with 0 and abnormal with 1\n",
        "vital_data = vital_data.replace({'Normal': 0, 'Abnormal': 1})\n",
        "vital_data[\"OUTPUT\"] = vital_data[\"OUTPUT\"].astype(np.float32)\n",
        "\n",
        "# Lets checkif it worked\n",
        "vital_data[featureList].isin([0]).sum()\n",
        "print(vital_data.dtypes)\n",
        "print(vital_data['TEMP (*C)'].head)\n",
        "vital_data.drop([0])\n",
        "vital_data = vital_data.reset_index()\n",
        "vital_data = clean_dataset(vital_data)"
      ],
      "metadata": {
        "colab": {
          "base_uri": "https://localhost:8080/"
        },
        "id": "FGZfEr64aA-S",
        "outputId": "5691a91f-cd4f-405e-eaf2-46f0c8398aee"
      },
      "execution_count": 14,
      "outputs": [
        {
          "output_type": "stream",
          "name": "stdout",
          "text": [
            "index            int64\n",
            "Unnamed: 0     float32\n",
            "Time (s)       float32\n",
            " HR (BPM)      float32\n",
            " RESP (BPM)    float32\n",
            " SpO2 (%)      float32\n",
            "TEMP (*C)      float32\n",
            "OUTPUT         float32\n",
            "dtype: object\n",
            "<bound method NDFrame.head of 0        36.200001\n",
            "1        36.200001\n",
            "2        38.000000\n",
            "3        35.000000\n",
            "4        37.000000\n",
            "           ...    \n",
            "25488    33.000000\n",
            "25489    36.400002\n",
            "25490    36.200001\n",
            "25491    37.000000\n",
            "25492    37.000000\n",
            "Name: TEMP (*C), Length: 25493, dtype: float32>\n"
          ]
        }
      ]
    },
    {
      "cell_type": "markdown",
      "source": [
        "Now we do the train/test split."
      ],
      "metadata": {
        "id": "ZGr1ggB9cAyd"
      }
    },
    {
      "cell_type": "code",
      "source": [
        "print(vital_data.shape)\n",
        "X = vital_data.drop([\"OUTPUT\"], axis=1)\n",
        "y = vital_data[\"OUTPUT\"]\n",
        "\n",
        "print(X.shape)\n",
        "print(y.shape)"
      ],
      "metadata": {
        "id": "0e8VWy4b0pYD",
        "colab": {
          "base_uri": "https://localhost:8080/"
        },
        "outputId": "06183db6-3f2f-454c-fde6-456e5cb472f5"
      },
      "execution_count": 15,
      "outputs": [
        {
          "output_type": "stream",
          "name": "stdout",
          "text": [
            "(25214, 9)\n",
            "(25214, 8)\n",
            "(25214,)\n"
          ]
        }
      ]
    },
    {
      "cell_type": "code",
      "source": [
        "from sklearn.model_selection import train_test_split\n",
        "X_train, X_test, y_train, y_test = train_test_split(X,y)\n",
        "# train set 75% + test set 25%"
      ],
      "metadata": {
        "id": "45nqI1LqeS2i"
      },
      "execution_count": 16,
      "outputs": []
    },
    {
      "cell_type": "code",
      "source": [
        "from sklearn.dummy import DummyClassifier\n",
        "from sklearn.linear_model import LogisticRegression\n",
        "from sklearn.tree import DecisionTreeClassifier\n",
        "from sklearn.neighbors import KNeighborsClassifier\n",
        "from sklearn.naive_bayes import GaussianNB\n",
        "from sklearn.svm import SVC\n",
        "from sklearn.ensemble import RandomForestClassifier"
      ],
      "metadata": {
        "id": "y0YiROMZfwsl"
      },
      "execution_count": 17,
      "outputs": []
    },
    {
      "cell_type": "markdown",
      "source": [
        "We can find out which model has the best score without considering the parameters yet."
      ],
      "metadata": {
        "id": "W1juDLmwf12z"
      }
    },
    {
      "cell_type": "code",
      "source": [
        "from sklearn.model_selection import KFold, cross_val_score\n",
        "for model in [ \n",
        "    DummyClassifier,\n",
        "    DecisionTreeClassifier,\n",
        "    KNeighborsClassifier,\n",
        "    GaussianNB,\n",
        "    SVC,\n",
        "    RandomForestClassifier]:\n",
        "    \n",
        "    cls = model()\n",
        "    kf = KFold(n_splits = 5)\n",
        "    score = cross_val_score(cls, X_train, y_train, cv = kf, scoring=\"roc_auc\", error_score='raise')\n",
        "    \n",
        "    print(f\"{model.__name__:22}  AUC: \\t {score.mean():.3f} STD: {score.std():.2f}\")"
      ],
      "metadata": {
        "colab": {
          "base_uri": "https://localhost:8080/"
        },
        "id": "wLNoXnBlgErx",
        "outputId": "9e491369-108f-403e-f65c-464a1842455e"
      },
      "execution_count": 18,
      "outputs": [
        {
          "output_type": "stream",
          "name": "stdout",
          "text": [
            "DummyClassifier         AUC: \t 0.500 STD: 0.00\n",
            "DecisionTreeClassifier  AUC: \t 0.998 STD: 0.00\n",
            "KNeighborsClassifier    AUC: \t 0.937 STD: 0.00\n",
            "GaussianNB              AUC: \t 0.989 STD: 0.00\n",
            "SVC                     AUC: \t 0.737 STD: 0.01\n",
            "RandomForestClassifier  AUC: \t 1.000 STD: 0.00\n"
          ]
        }
      ]
    },
    {
      "cell_type": "code",
      "source": [
        "# Fitting the modle model\n",
        "cls = RandomForestClassifier()\n",
        "\n",
        "# Fitting the model\n",
        "cls.fit(X_train, y_train)\n",
        "\n",
        "# Prediction\n",
        "y_preds = cls.predict(X_test)"
      ],
      "metadata": {
        "id": "oyk8vZtEgiJ7"
      },
      "execution_count": 19,
      "outputs": []
    },
    {
      "cell_type": "code",
      "source": [
        "from sklearn.metrics import classification_report\n",
        "print(classification_report(y_test, y_preds))"
      ],
      "metadata": {
        "colab": {
          "base_uri": "https://localhost:8080/"
        },
        "id": "CcBLZd_kwoZ-",
        "outputId": "2c13a0cb-0afc-40c8-dfb3-6d2f0c22a334"
      },
      "execution_count": 20,
      "outputs": [
        {
          "output_type": "stream",
          "name": "stdout",
          "text": [
            "              precision    recall  f1-score   support\n",
            "\n",
            "         0.0       1.00      1.00      1.00      1394\n",
            "         1.0       1.00      1.00      1.00      4910\n",
            "\n",
            "    accuracy                           1.00      6304\n",
            "   macro avg       1.00      1.00      1.00      6304\n",
            "weighted avg       1.00      1.00      1.00      6304\n",
            "\n"
          ]
        }
      ]
    },
    {
      "cell_type": "code",
      "source": [
        "from sklearn.metrics import roc_auc_score\n",
        "print(roc_auc_score(y_test, y_preds))"
      ],
      "metadata": {
        "colab": {
          "base_uri": "https://localhost:8080/"
        },
        "id": "5zlcrE19wukB",
        "outputId": "5859456f-6e95-4508-b926-7d2d02084719"
      },
      "execution_count": 21,
      "outputs": [
        {
          "output_type": "stream",
          "name": "stdout",
          "text": [
            "0.9992826398852224\n"
          ]
        }
      ]
    },
    {
      "cell_type": "markdown",
      "source": [
        "## FINE TUNING"
      ],
      "metadata": {
        "id": "snOUpSgzwyFh"
      }
    },
    {
      "cell_type": "code",
      "source": [
        "from sklearn.model_selection import RandomizedSearchCV\n",
        "\n",
        "# Define a grid of hyperparameters\n",
        "grid = {\"n_estimators\": [10, 100, 200, 500, 1000, 1200],\n",
        "        \"max_depth\": [None, 5, 10, 20, 30],\n",
        "        \"max_features\": [\"auto\", \"sqrt\"],\n",
        "        \"min_samples_split\": [2, 4, 6],\n",
        "        \"min_samples_leaf\": [1, 2, 4]}\n",
        "\n",
        "# Split into train and test sets\n",
        "X_train, X_test, y_train, y_test = train_test_split(X, y)\n",
        "\n",
        "# Set n_jobs to -1 to use all cores (NOTE: n_jobs=-1 is broken as of 8 Dec 2019, using n_jobs=1 works)\n",
        "clf = RandomForestClassifier(n_jobs=1)\n",
        "\n",
        "# Setup RandomizedSearchCV\n",
        "rs_clf = RandomizedSearchCV(estimator=clf,\n",
        "                            param_distributions=grid,\n",
        "                            n_iter=10, # try 10 models total\n",
        "                            cv=5, # 5-fold cross-validation\n",
        "                            verbose=2) # print out results\n",
        "\n",
        "# Fit the RandomizedSearchCV version of clf\n",
        "rs_clf.fit(X_train, y_train);\n",
        "\n",
        "# Find the best hyperparameters\n",
        "print(rs_clf.best_params_)\n",
        "\n",
        "# Scoring automatically uses the best hyperparameters\n",
        "rs_clf.score(X_test, y_test)"
      ],
      "metadata": {
        "colab": {
          "base_uri": "https://localhost:8080/"
        },
        "id": "sEPNeiAWw4al",
        "outputId": "f60af71e-29ad-48f1-c1ae-194ea21ebf8e"
      },
      "execution_count": 22,
      "outputs": [
        {
          "output_type": "stream",
          "name": "stdout",
          "text": [
            "Fitting 5 folds for each of 10 candidates, totalling 50 fits\n",
            "[CV] END max_depth=20, max_features=sqrt, min_samples_leaf=1, min_samples_split=2, n_estimators=100; total time=   1.4s\n",
            "[CV] END max_depth=20, max_features=sqrt, min_samples_leaf=1, min_samples_split=2, n_estimators=100; total time=   1.3s\n",
            "[CV] END max_depth=20, max_features=sqrt, min_samples_leaf=1, min_samples_split=2, n_estimators=100; total time=   1.4s\n",
            "[CV] END max_depth=20, max_features=sqrt, min_samples_leaf=1, min_samples_split=2, n_estimators=100; total time=   1.4s\n",
            "[CV] END max_depth=20, max_features=sqrt, min_samples_leaf=1, min_samples_split=2, n_estimators=100; total time=   1.4s\n",
            "[CV] END max_depth=None, max_features=sqrt, min_samples_leaf=2, min_samples_split=6, n_estimators=200; total time=   2.7s\n",
            "[CV] END max_depth=None, max_features=sqrt, min_samples_leaf=2, min_samples_split=6, n_estimators=200; total time=   2.7s\n",
            "[CV] END max_depth=None, max_features=sqrt, min_samples_leaf=2, min_samples_split=6, n_estimators=200; total time=   2.7s\n",
            "[CV] END max_depth=None, max_features=sqrt, min_samples_leaf=2, min_samples_split=6, n_estimators=200; total time=   2.7s\n",
            "[CV] END max_depth=None, max_features=sqrt, min_samples_leaf=2, min_samples_split=6, n_estimators=200; total time=   2.7s\n",
            "[CV] END max_depth=10, max_features=sqrt, min_samples_leaf=4, min_samples_split=4, n_estimators=500; total time=   6.4s\n",
            "[CV] END max_depth=10, max_features=sqrt, min_samples_leaf=4, min_samples_split=4, n_estimators=500; total time=   6.4s\n",
            "[CV] END max_depth=10, max_features=sqrt, min_samples_leaf=4, min_samples_split=4, n_estimators=500; total time=   6.5s\n",
            "[CV] END max_depth=10, max_features=sqrt, min_samples_leaf=4, min_samples_split=4, n_estimators=500; total time=   6.4s\n",
            "[CV] END max_depth=10, max_features=sqrt, min_samples_leaf=4, min_samples_split=4, n_estimators=500; total time=   6.6s\n",
            "[CV] END max_depth=20, max_features=sqrt, min_samples_leaf=1, min_samples_split=6, n_estimators=100; total time=   1.4s\n",
            "[CV] END max_depth=20, max_features=sqrt, min_samples_leaf=1, min_samples_split=6, n_estimators=100; total time=   1.4s\n",
            "[CV] END max_depth=20, max_features=sqrt, min_samples_leaf=1, min_samples_split=6, n_estimators=100; total time=   1.4s\n",
            "[CV] END max_depth=20, max_features=sqrt, min_samples_leaf=1, min_samples_split=6, n_estimators=100; total time=   1.3s\n",
            "[CV] END max_depth=20, max_features=sqrt, min_samples_leaf=1, min_samples_split=6, n_estimators=100; total time=   1.4s\n",
            "[CV] END max_depth=30, max_features=auto, min_samples_leaf=1, min_samples_split=2, n_estimators=10; total time=   0.1s\n",
            "[CV] END max_depth=30, max_features=auto, min_samples_leaf=1, min_samples_split=2, n_estimators=10; total time=   0.1s\n",
            "[CV] END max_depth=30, max_features=auto, min_samples_leaf=1, min_samples_split=2, n_estimators=10; total time=   0.2s\n",
            "[CV] END max_depth=30, max_features=auto, min_samples_leaf=1, min_samples_split=2, n_estimators=10; total time=   0.2s\n",
            "[CV] END max_depth=30, max_features=auto, min_samples_leaf=1, min_samples_split=2, n_estimators=10; total time=   0.2s\n",
            "[CV] END max_depth=10, max_features=auto, min_samples_leaf=2, min_samples_split=4, n_estimators=100; total time=   1.4s\n",
            "[CV] END max_depth=10, max_features=auto, min_samples_leaf=2, min_samples_split=4, n_estimators=100; total time=   1.3s\n",
            "[CV] END max_depth=10, max_features=auto, min_samples_leaf=2, min_samples_split=4, n_estimators=100; total time=   1.4s\n",
            "[CV] END max_depth=10, max_features=auto, min_samples_leaf=2, min_samples_split=4, n_estimators=100; total time=   1.3s\n",
            "[CV] END max_depth=10, max_features=auto, min_samples_leaf=2, min_samples_split=4, n_estimators=100; total time=   1.4s\n",
            "[CV] END max_depth=10, max_features=sqrt, min_samples_leaf=2, min_samples_split=4, n_estimators=500; total time=   6.7s\n",
            "[CV] END max_depth=10, max_features=sqrt, min_samples_leaf=2, min_samples_split=4, n_estimators=500; total time=   6.5s\n",
            "[CV] END max_depth=10, max_features=sqrt, min_samples_leaf=2, min_samples_split=4, n_estimators=500; total time=   6.6s\n",
            "[CV] END max_depth=10, max_features=sqrt, min_samples_leaf=2, min_samples_split=4, n_estimators=500; total time=   6.5s\n",
            "[CV] END max_depth=10, max_features=sqrt, min_samples_leaf=2, min_samples_split=4, n_estimators=500; total time=   6.6s\n",
            "[CV] END max_depth=None, max_features=auto, min_samples_leaf=4, min_samples_split=6, n_estimators=1000; total time=  13.3s\n",
            "[CV] END max_depth=None, max_features=auto, min_samples_leaf=4, min_samples_split=6, n_estimators=1000; total time=  14.1s\n",
            "[CV] END max_depth=None, max_features=auto, min_samples_leaf=4, min_samples_split=6, n_estimators=1000; total time=  13.2s\n",
            "[CV] END max_depth=None, max_features=auto, min_samples_leaf=4, min_samples_split=6, n_estimators=1000; total time=  13.4s\n",
            "[CV] END max_depth=None, max_features=auto, min_samples_leaf=4, min_samples_split=6, n_estimators=1000; total time=  13.2s\n",
            "[CV] END max_depth=None, max_features=auto, min_samples_leaf=2, min_samples_split=6, n_estimators=500; total time=   6.7s\n",
            "[CV] END max_depth=None, max_features=auto, min_samples_leaf=2, min_samples_split=6, n_estimators=500; total time=   6.9s\n",
            "[CV] END max_depth=None, max_features=auto, min_samples_leaf=2, min_samples_split=6, n_estimators=500; total time=   6.6s\n",
            "[CV] END max_depth=None, max_features=auto, min_samples_leaf=2, min_samples_split=6, n_estimators=500; total time=   6.7s\n",
            "[CV] END max_depth=None, max_features=auto, min_samples_leaf=2, min_samples_split=6, n_estimators=500; total time=   6.7s\n",
            "[CV] END max_depth=30, max_features=sqrt, min_samples_leaf=4, min_samples_split=4, n_estimators=10; total time=   0.1s\n",
            "[CV] END max_depth=30, max_features=sqrt, min_samples_leaf=4, min_samples_split=4, n_estimators=10; total time=   0.2s\n",
            "[CV] END max_depth=30, max_features=sqrt, min_samples_leaf=4, min_samples_split=4, n_estimators=10; total time=   0.1s\n",
            "[CV] END max_depth=30, max_features=sqrt, min_samples_leaf=4, min_samples_split=4, n_estimators=10; total time=   0.2s\n",
            "[CV] END max_depth=30, max_features=sqrt, min_samples_leaf=4, min_samples_split=4, n_estimators=10; total time=   0.1s\n",
            "{'n_estimators': 100, 'min_samples_split': 2, 'min_samples_leaf': 1, 'max_features': 'sqrt', 'max_depth': 20}\n"
          ]
        },
        {
          "output_type": "execute_result",
          "data": {
            "text/plain": [
              "0.9998413705583756"
            ]
          },
          "metadata": {},
          "execution_count": 22
        }
      ]
    },
    {
      "cell_type": "code",
      "source": [
        "print(f\"Final Score: {rs_clf.score(X_test, y_test)}\")"
      ],
      "metadata": {
        "colab": {
          "base_uri": "https://localhost:8080/"
        },
        "id": "wp2vVns-yoM-",
        "outputId": "d51e2a8a-74bc-4323-f5c7-3e8305da77bc"
      },
      "execution_count": 23,
      "outputs": [
        {
          "output_type": "stream",
          "name": "stdout",
          "text": [
            "Final Score: 0.9998413705583756\n"
          ]
        }
      ]
    },
    {
      "cell_type": "markdown",
      "source": [
        "## SAVE THE MODEL"
      ],
      "metadata": {
        "id": "dkfZSsH9miW5"
      }
    },
    {
      "cell_type": "code",
      "source": [
        "import joblib\n",
        "import pickle"
      ],
      "metadata": {
        "id": "-Ohzpr9kmloS"
      },
      "execution_count": 25,
      "outputs": []
    },
    {
      "cell_type": "code",
      "source": [
        "filename = \"iot_model.joblib\"\n",
        "joblib.dump(model, filename)"
      ],
      "metadata": {
        "colab": {
          "base_uri": "https://localhost:8080/"
        },
        "id": "mT1OKMjWpJNL",
        "outputId": "c3f0eff5-95e2-4666-d64f-dd42b0f2ac5e"
      },
      "execution_count": 27,
      "outputs": [
        {
          "output_type": "execute_result",
          "data": {
            "text/plain": [
              "['iot_model.joblib']"
            ]
          },
          "metadata": {},
          "execution_count": 27
        }
      ]
    }
  ]
}